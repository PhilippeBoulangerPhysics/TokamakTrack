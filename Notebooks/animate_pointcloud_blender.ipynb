{
 "cells": [
  {
   "cell_type": "code",
   "execution_count": 1,
   "metadata": {},
   "outputs": [
    {
     "name": "stdout",
     "output_type": "stream",
     "text": [
      "Device with name Apple M1 Pro supports metal minimum requirements\n"
     ]
    }
   ],
   "source": [
    "import bpy\n",
    "from bpy.props import (\n",
    "    FloatProperty,\n",
    "    PointerProperty,\n",
    ")\n",
    "import numpy as np"
   ]
  },
  {
   "cell_type": "code",
   "execution_count": 2,
   "metadata": {},
   "outputs": [
    {
     "name": "stdout",
     "output_type": "stream",
     "text": [
      "Read blend: \"/Users/arnaudbergeron/Desktop/Code/2023/WaveViz/tokamak.blend\"\n"
     ]
    },
    {
     "data": {
      "text/plain": [
       "{'FINISHED'}"
      ]
     },
     "execution_count": 2,
     "metadata": {},
     "output_type": "execute_result"
    }
   ],
   "source": [
    "#open blender file\n",
    "bpy.ops.wm.open_mainfile(filepath=\"tokamak.blend\")"
   ]
  },
  {
   "cell_type": "code",
   "execution_count": 4,
   "metadata": {},
   "outputs": [],
   "source": [
    "tokamak_obj = bpy.data.objects['tokamamamam']"
   ]
  },
  {
   "cell_type": "code",
   "execution_count": 6,
   "metadata": {},
   "outputs": [],
   "source": [
    "to_anim = np.load('to_anim.npy')"
   ]
  },
  {
   "cell_type": "code",
   "execution_count": 7,
   "metadata": {},
   "outputs": [],
   "source": [
    "obj = (tokamak_obj.data.color_attributes[0])\n",
    "\n",
    "for i_frame in range(1, to_anim.shape[0]):\n",
    "    new_att = (tokamak_obj.data.color_attributes.new(name=f'col{i_frame}', type='FLOAT_COLOR', domain='POINT'))\n",
    "    for idx, new_v in enumerate(new_att.data):\n",
    "        new_v.color = to_anim[i_frame][idx][3:]"
   ]
  },
  {
   "cell_type": "code",
   "execution_count": 8,
   "metadata": {},
   "outputs": [
    {
     "data": {
      "text/plain": [
       "bpy.data.materials['Verts'].node_tree"
      ]
     },
     "execution_count": 8,
     "metadata": {},
     "output_type": "execute_result"
    }
   ],
   "source": [
    "material = bpy.data.materials['Verts']\n",
    "link_node = None\n",
    "\n",
    "mix_nodes = []\n",
    "old_node = (material.node_tree).nodes['Attribute']\n",
    "\n",
    "for i_frame in range(1, to_anim.shape[0]):\n",
    "    mix_node = material.node_tree.nodes.new(type='ShaderNodeMixRGB')\n",
    "    mix_node.blend_type = 'MIX'\n",
    "    mix_node.inputs['Fac'].default_value = 0.0\n",
    "\n",
    "    new_node = material.node_tree.nodes.new(type='ShaderNodeAttribute')\n",
    "    new_node.attribute_name = f'col{i_frame}'\n",
    "\n",
    "    #link old_node and new_node alpha to mix_node color\n",
    "    try:\n",
    "        material.node_tree.links.new(old_node.outputs['Alpha'], mix_node.inputs['Color1'])\n",
    "    except KeyError:\n",
    "        material.node_tree.links.new(old_node.outputs['Color'], mix_node.inputs['Color1'])\n",
    "\n",
    "    material.node_tree.links.new(new_node.outputs['Alpha'], mix_node.inputs['Color2'])\n",
    "\n",
    "    old_node = mix_node\n",
    "    mix_nodes.append(mix_node)\n",
    "\n",
    "material.node_tree.links.new(old_node.outputs['Color'], (material.node_tree).nodes['Principled BSDF'].inputs['Alpha'])"
   ]
  },
  {
   "cell_type": "code",
   "execution_count": 9,
   "metadata": {},
   "outputs": [],
   "source": [
    "#keyframe the fac to 1\n",
    "for idx, node in enumerate(mix_nodes):\n",
    "    node.inputs['Fac'].keyframe_insert(data_path='default_value', frame=idx)\n",
    "    node.inputs['Fac'].default_value = 1.0\n",
    "    node.inputs['Fac'].keyframe_insert(data_path='default_value', frame=idx+1)"
   ]
  },
  {
   "cell_type": "code",
   "execution_count": 10,
   "metadata": {},
   "outputs": [
    {
     "name": "stdout",
     "output_type": "stream",
     "text": [
      "Info: Saved \"tokamak_2.blend\"\n"
     ]
    },
    {
     "data": {
      "text/plain": [
       "{'FINISHED'}"
      ]
     },
     "execution_count": 10,
     "metadata": {},
     "output_type": "execute_result"
    }
   ],
   "source": [
    "bpy.ops.wm.save_as_mainfile(filepath='tokamak_2.blend')"
   ]
  },
  {
   "cell_type": "code",
   "execution_count": null,
   "metadata": {},
   "outputs": [],
   "source": []
  },
  {
   "cell_type": "code",
   "execution_count": null,
   "metadata": {},
   "outputs": [],
   "source": []
  },
  {
   "cell_type": "code",
   "execution_count": null,
   "metadata": {},
   "outputs": [],
   "source": []
  }
 ],
 "metadata": {
  "kernelspec": {
   "display_name": "new_base",
   "language": "python",
   "name": "python3"
  },
  "language_info": {
   "codemirror_mode": {
    "name": "ipython",
    "version": 3
   },
   "file_extension": ".py",
   "mimetype": "text/x-python",
   "name": "python",
   "nbconvert_exporter": "python",
   "pygments_lexer": "ipython3",
   "version": "3.10.9"
  }
 },
 "nbformat": 4,
 "nbformat_minor": 2
}
