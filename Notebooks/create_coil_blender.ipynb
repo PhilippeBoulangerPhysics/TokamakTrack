{
 "cells": [
  {
   "cell_type": "code",
   "execution_count": 1,
   "metadata": {},
   "outputs": [
    {
     "name": "stdout",
     "output_type": "stream",
     "text": [
      "Device with name Apple M1 Pro supports metal minimum requirements\n"
     ]
    }
   ],
   "source": [
    "import bpy\n",
    "from SimulationTokamak.WireShape import *"
   ]
  },
  {
   "cell_type": "code",
   "execution_count": 16,
   "metadata": {},
   "outputs": [
    {
     "name": "stdout",
     "output_type": "stream",
     "text": [
      "Read blend: \"/Users/arnaudbergeron/Desktop/Code/2023/WaveViz/tokamak.blend\"\n"
     ]
    },
    {
     "data": {
      "text/plain": [
       "{'FINISHED'}"
      ]
     },
     "execution_count": 16,
     "metadata": {},
     "output_type": "execute_result"
    }
   ],
   "source": [
    "# open file /Users/arnaudbergeron/Desktop/Code/2023/WaveViz/tokamak.blend\n",
    "bpy.ops.wm.open_mainfile(filepath=\"/Users/arnaudbergeron/Desktop/Code/2023/WaveViz/tokamak.blend\")"
   ]
  },
  {
   "cell_type": "code",
   "execution_count": 17,
   "metadata": {},
   "outputs": [],
   "source": [
    "d_shape = [Wire() for i in range(0,12)]\n",
    "for i in range(12):\n",
    "    d_shape[i].Create_D_Shape_coil(i*np.pi/6)\n",
    "d_shape_data = [d_shape[i].coordz.T for i in range(0,12)]"
   ]
  },
  {
   "cell_type": "code",
   "execution_count": 18,
   "metadata": {},
   "outputs": [],
   "source": [
    "for coil in d_shape_data:\n",
    "    # Create a new curve\n",
    "    curveData = bpy.data.curves.new('myCurve', type='CURVE')\n",
    "    curveData.dimensions = '3D'\n",
    "    curveData.resolution_u = 2\n",
    "\n",
    "    # map coords to spline\n",
    "    polyline = curveData.splines.new('POLY')\n",
    "    polyline.points.add(len(coil)-1)\n",
    "    for i, coord in enumerate(coil):\n",
    "        x,y,z = coord\n",
    "        polyline.points[i].co = (x, y, z, 1)\n",
    "\n",
    "    # create Object\n",
    "    curveOB = bpy.data.objects.new('myCurve', curveData)\n",
    "    curveData.bevel_depth = 0.01\n",
    "    # attach to scene and validate context\n",
    "    scn = bpy.context.scene\n",
    "    scn.collection.objects.link(curveOB)"
   ]
  },
  {
   "cell_type": "code",
   "execution_count": 20,
   "metadata": {},
   "outputs": [],
   "source": [
    "transformer_solenoid = Wire()\n",
    "R_Solenoid = 0.5\n",
    "N_Solenoid = 10\n",
    "l_Solenoid = 4\n",
    "step_Solenoid = 0.1\n",
    "transformer_solenoid.Create_Solenoid(R_Solenoid, N_Solenoid, l_Solenoid, step_Solenoid)"
   ]
  },
  {
   "cell_type": "code",
   "execution_count": 21,
   "metadata": {},
   "outputs": [],
   "source": [
    "for coil in [transformer_solenoid.coordz.T]:\n",
    "    # Create a new curve\n",
    "    curveData = bpy.data.curves.new('myCurve', type='CURVE')\n",
    "    curveData.dimensions = '3D'\n",
    "    curveData.resolution_u = 2\n",
    "\n",
    "    # map coords to spline\n",
    "    polyline = curveData.splines.new('POLY')\n",
    "    polyline.points.add(len(coil)-1)\n",
    "    for i, coord in enumerate(coil):\n",
    "        x,y,z = coord\n",
    "        polyline.points[i].co = (x, y, z, 1)\n",
    "\n",
    "    # create Object\n",
    "    curveOB = bpy.data.objects.new('myCurve', curveData)\n",
    "    curveData.bevel_depth = 0.01\n",
    "    # attach to scene and validate context\n",
    "    scn = bpy.context.scene\n",
    "    scn.collection.objects.link(curveOB)"
   ]
  },
  {
   "cell_type": "code",
   "execution_count": 24,
   "metadata": {},
   "outputs": [
    {
     "name": "stdout",
     "output_type": "stream",
     "text": [
      "Info: Saved \"tokamak.blend\"\n"
     ]
    },
    {
     "data": {
      "text/plain": [
       "{'FINISHED'}"
      ]
     },
     "execution_count": 24,
     "metadata": {},
     "output_type": "execute_result"
    }
   ],
   "source": [
    "bpy.ops.wm.save_as_mainfile(filepath='/Users/arnaudbergeron/Desktop/Code/2023/WaveViz/tokamak.blend')"
   ]
  },
  {
   "cell_type": "code",
   "execution_count": null,
   "metadata": {},
   "outputs": [],
   "source": []
  }
 ],
 "metadata": {
  "kernelspec": {
   "display_name": "new_base",
   "language": "python",
   "name": "python3"
  },
  "language_info": {
   "codemirror_mode": {
    "name": "ipython",
    "version": 3
   },
   "file_extension": ".py",
   "mimetype": "text/x-python",
   "name": "python",
   "nbconvert_exporter": "python",
   "pygments_lexer": "ipython3",
   "version": "3.10.9"
  }
 },
 "nbformat": 4,
 "nbformat_minor": 2
}
